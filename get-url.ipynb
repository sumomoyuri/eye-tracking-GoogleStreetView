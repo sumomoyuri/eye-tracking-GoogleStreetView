{
 "cells": [
  {
   "cell_type": "code",
   "execution_count": null,
   "metadata": {},
   "outputs": [],
   "source": [
    "!pip install selenium"
   ]
  },
  {
   "cell_type": "code",
   "execution_count": null,
   "metadata": {},
   "outputs": [],
   "source": [
    "#視線記録プログラムの実行\n",
    "%run recorder.py"
   ]
  },
  {
   "cell_type": "code",
   "execution_count": null,
   "metadata": {},
   "outputs": [],
   "source": [
    "from selenium import webdriver\n",
    "import time\n",
    "import datetime\n",
    "import re\n",
    "import sys\n",
    "import csv\n",
    "\n",
    "#ChromeDriverのインスタンス化\n",
    "driver = webdriver.Chrome()\n",
    "\n",
    "#現在地のURL\n",
    "latest_url = \"https://www.google.com/maps/@35.6816781,139.7671814,2a,75y,125h,90t/data=!3m6!1e1!3m4!1sGig19ZaTtC3mQiuE7_GbSQ!2e0!7i13312!8i6656\"\n",
    "\n",
    "#ChromeDriverの機動\n",
    "driver.get(latest_url)\n",
    "\n",
    "#アウトプットファイル\n",
    "f = open('output/output_url.csv', 'a')\n",
    "writer = csv.writer(f)\n",
    "\n",
    "#移動や方向転換でURLが変わるたびに、その時刻とURL情報を記録する。\n",
    "while True:\n",
    "    current_url = driver.current_url\n",
    "    if latest_url != current_url:\n",
    "        try:\n",
    "            tt = datetime.datetime.now()\n",
    "            latest_url = current_url\n",
    "            url_info = current_url.strip(\"https://www.google.com/maps/@\")\n",
    "            position = re.sub(r\"[a-z]\", \"\", url_info.split('/')[0]) #35.6816781,139.7671814,2a,75y,125h,90tの部分\n",
    "            longitude = position[0] #緯度\n",
    "            latitude = position[1] #経度\n",
    "            fov = position[3][:-1] #上下視野角\n",
    "            direction = position[4][:-1] #カメラ方位\n",
    "            angle = position[5][:-1] #カメラ上下角度\n",
    "            panoid = url_info.split('/')[1].split('!1s')[1].split('!2e')[0] #panoID Gig19ZaTtC3mQiuE7_GbSQの部分\n",
    "            #[時刻, 緯度, 経度, 上下視野角, カメラ方位, カメラ角度, panoID, URL]\n",
    "            writer.writerow([tt, longitude, latitude, fov, panoid, direction, angle, panoid, current_url])\n",
    "        except:\n",
    "            f.close()\n",
    "            sys.exit()\n",
    "    time.sleep(0.02)"
   ]
  },
  {
   "cell_type": "code",
   "execution_count": null,
   "metadata": {},
   "outputs": [],
   "source": []
  }
 ],
 "metadata": {
  "kernelspec": {
   "display_name": "Python 3 (ipykernel)",
   "language": "python",
   "name": "python3"
  },
  "language_info": {
   "codemirror_mode": {
    "name": "ipython",
    "version": 3
   },
   "file_extension": ".py",
   "mimetype": "text/x-python",
   "name": "python",
   "nbconvert_exporter": "python",
   "pygments_lexer": "ipython3",
   "version": "3.9.6"
  }
 },
 "nbformat": 4,
 "nbformat_minor": 4
}
